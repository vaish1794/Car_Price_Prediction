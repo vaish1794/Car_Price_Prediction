{
 "cells": [
  {
   "cell_type": "code",
   "execution_count": 1,
   "id": "a8627d25",
   "metadata": {},
   "outputs": [],
   "source": [
    "#Importing the neccesary libraries\n",
    "\n",
    "import pandas as pd\n",
    "import numpy as np\n",
    "import matplotlib.pyplot as plt\n",
    "import seaborn as sns\n",
    "import warnings\n",
    "warnings.filterwarnings('ignore')"
   ]
  },
  {
   "cell_type": "code",
   "execution_count": 2,
   "id": "dcfb3e94",
   "metadata": {},
   "outputs": [],
   "source": [
    "#Loading the database which was scraped\n",
    "df=pd.read_csv(\"Used_cars.csv\")"
   ]
  },
  {
   "cell_type": "code",
   "execution_count": 3,
   "id": "44fab091",
   "metadata": {},
   "outputs": [
    {
     "data": {
      "text/html": [
       "<div>\n",
       "<style scoped>\n",
       "    .dataframe tbody tr th:only-of-type {\n",
       "        vertical-align: middle;\n",
       "    }\n",
       "\n",
       "    .dataframe tbody tr th {\n",
       "        vertical-align: top;\n",
       "    }\n",
       "\n",
       "    .dataframe thead th {\n",
       "        text-align: right;\n",
       "    }\n",
       "</style>\n",
       "<table border=\"1\" class=\"dataframe\">\n",
       "  <thead>\n",
       "    <tr style=\"text-align: right;\">\n",
       "      <th></th>\n",
       "      <th>Unnamed: 0</th>\n",
       "      <th>Fuel</th>\n",
       "      <th>Kilometers_Driven</th>\n",
       "      <th>Transmission</th>\n",
       "      <th>Price</th>\n",
       "    </tr>\n",
       "  </thead>\n",
       "  <tbody>\n",
       "    <tr>\n",
       "      <th>0</th>\n",
       "      <td>0</td>\n",
       "      <td>Petrol</td>\n",
       "      <td>27,200</td>\n",
       "      <td>Automatic</td>\n",
       "      <td>6.90</td>\n",
       "    </tr>\n",
       "    <tr>\n",
       "      <th>1</th>\n",
       "      <td>1</td>\n",
       "      <td>Petrol</td>\n",
       "      <td>45,716</td>\n",
       "      <td>Manual</td>\n",
       "      <td>8.99</td>\n",
       "    </tr>\n",
       "    <tr>\n",
       "      <th>2</th>\n",
       "      <td>2</td>\n",
       "      <td>Diesel</td>\n",
       "      <td>46,365</td>\n",
       "      <td>Manual</td>\n",
       "      <td>7.72</td>\n",
       "    </tr>\n",
       "    <tr>\n",
       "      <th>3</th>\n",
       "      <td>3</td>\n",
       "      <td>Petrol</td>\n",
       "      <td>30,480</td>\n",
       "      <td>Manual</td>\n",
       "      <td>4.50</td>\n",
       "    </tr>\n",
       "    <tr>\n",
       "      <th>4</th>\n",
       "      <td>4</td>\n",
       "      <td>Petrol</td>\n",
       "      <td>82,496</td>\n",
       "      <td>Manual</td>\n",
       "      <td>8.72</td>\n",
       "    </tr>\n",
       "    <tr>\n",
       "      <th>...</th>\n",
       "      <td>...</td>\n",
       "      <td>...</td>\n",
       "      <td>...</td>\n",
       "      <td>...</td>\n",
       "      <td>...</td>\n",
       "    </tr>\n",
       "    <tr>\n",
       "      <th>7975</th>\n",
       "      <td>7975</td>\n",
       "      <td>Petrol</td>\n",
       "      <td>32,447</td>\n",
       "      <td>Manual</td>\n",
       "      <td>28.99</td>\n",
       "    </tr>\n",
       "    <tr>\n",
       "      <th>7976</th>\n",
       "      <td>7976</td>\n",
       "      <td>Diesel</td>\n",
       "      <td>70,865</td>\n",
       "      <td>Manual</td>\n",
       "      <td>17.50</td>\n",
       "    </tr>\n",
       "    <tr>\n",
       "      <th>7977</th>\n",
       "      <td>7977</td>\n",
       "      <td>Petrol</td>\n",
       "      <td>18,603</td>\n",
       "      <td>Manual</td>\n",
       "      <td>23.75</td>\n",
       "    </tr>\n",
       "    <tr>\n",
       "      <th>7978</th>\n",
       "      <td>7978</td>\n",
       "      <td>Diesel</td>\n",
       "      <td>98,628</td>\n",
       "      <td>Manual</td>\n",
       "      <td>17.50</td>\n",
       "    </tr>\n",
       "    <tr>\n",
       "      <th>7979</th>\n",
       "      <td>7979</td>\n",
       "      <td>Petrol</td>\n",
       "      <td>31,137</td>\n",
       "      <td>Manual</td>\n",
       "      <td>9.99</td>\n",
       "    </tr>\n",
       "  </tbody>\n",
       "</table>\n",
       "<p>7980 rows × 5 columns</p>\n",
       "</div>"
      ],
      "text/plain": [
       "      Unnamed: 0      Fuel Kilometers_Driven Transmission  Price\n",
       "0              0   Petrol             27,200    Automatic   6.90\n",
       "1              1   Petrol             45,716       Manual   8.99\n",
       "2              2   Diesel             46,365       Manual   7.72\n",
       "3              3   Petrol             30,480       Manual   4.50\n",
       "4              4   Petrol             82,496       Manual   8.72\n",
       "...          ...       ...               ...          ...    ...\n",
       "7975        7975   Petrol             32,447       Manual  28.99\n",
       "7976        7976   Diesel             70,865       Manual  17.50\n",
       "7977        7977   Petrol             18,603       Manual  23.75\n",
       "7978        7978   Diesel             98,628       Manual  17.50\n",
       "7979        7979   Petrol             31,137       Manual   9.99\n",
       "\n",
       "[7980 rows x 5 columns]"
      ]
     },
     "execution_count": 3,
     "metadata": {},
     "output_type": "execute_result"
    }
   ],
   "source": [
    "df"
   ]
  },
  {
   "cell_type": "code",
   "execution_count": 4,
   "id": "be313a38",
   "metadata": {},
   "outputs": [
    {
     "data": {
      "text/html": [
       "<div>\n",
       "<style scoped>\n",
       "    .dataframe tbody tr th:only-of-type {\n",
       "        vertical-align: middle;\n",
       "    }\n",
       "\n",
       "    .dataframe tbody tr th {\n",
       "        vertical-align: top;\n",
       "    }\n",
       "\n",
       "    .dataframe thead th {\n",
       "        text-align: right;\n",
       "    }\n",
       "</style>\n",
       "<table border=\"1\" class=\"dataframe\">\n",
       "  <thead>\n",
       "    <tr style=\"text-align: right;\">\n",
       "      <th></th>\n",
       "      <th>Unnamed: 0</th>\n",
       "      <th>Price</th>\n",
       "    </tr>\n",
       "  </thead>\n",
       "  <tbody>\n",
       "    <tr>\n",
       "      <th>count</th>\n",
       "      <td>7980.000000</td>\n",
       "      <td>7980.000000</td>\n",
       "    </tr>\n",
       "    <tr>\n",
       "      <th>mean</th>\n",
       "      <td>3989.500000</td>\n",
       "      <td>8.129876</td>\n",
       "    </tr>\n",
       "    <tr>\n",
       "      <th>std</th>\n",
       "      <td>2303.771907</td>\n",
       "      <td>8.284680</td>\n",
       "    </tr>\n",
       "    <tr>\n",
       "      <th>min</th>\n",
       "      <td>0.000000</td>\n",
       "      <td>2.310000</td>\n",
       "    </tr>\n",
       "    <tr>\n",
       "      <th>25%</th>\n",
       "      <td>1994.750000</td>\n",
       "      <td>3.792500</td>\n",
       "    </tr>\n",
       "    <tr>\n",
       "      <th>50%</th>\n",
       "      <td>3989.500000</td>\n",
       "      <td>5.410000</td>\n",
       "    </tr>\n",
       "    <tr>\n",
       "      <th>75%</th>\n",
       "      <td>5984.250000</td>\n",
       "      <td>9.982500</td>\n",
       "    </tr>\n",
       "    <tr>\n",
       "      <th>max</th>\n",
       "      <td>7979.000000</td>\n",
       "      <td>59.500000</td>\n",
       "    </tr>\n",
       "  </tbody>\n",
       "</table>\n",
       "</div>"
      ],
      "text/plain": [
       "        Unnamed: 0        Price\n",
       "count  7980.000000  7980.000000\n",
       "mean   3989.500000     8.129876\n",
       "std    2303.771907     8.284680\n",
       "min       0.000000     2.310000\n",
       "25%    1994.750000     3.792500\n",
       "50%    3989.500000     5.410000\n",
       "75%    5984.250000     9.982500\n",
       "max    7979.000000    59.500000"
      ]
     },
     "execution_count": 4,
     "metadata": {},
     "output_type": "execute_result"
    }
   ],
   "source": [
    "df.describe()"
   ]
  },
  {
   "cell_type": "code",
   "execution_count": 15,
   "id": "39edef79",
   "metadata": {},
   "outputs": [
    {
     "name": "stdout",
     "output_type": "stream",
     "text": [
      "<class 'pandas.core.frame.DataFrame'>\n",
      "RangeIndex: 7980 entries, 0 to 7979\n",
      "Data columns (total 5 columns):\n",
      " #   Column             Non-Null Count  Dtype  \n",
      "---  ------             --------------  -----  \n",
      " 0   Unnamed: 0         7980 non-null   int64  \n",
      " 1   Fuel               7980 non-null   object \n",
      " 2   Kilometers_Driven  7980 non-null   object \n",
      " 3   Transmission       7980 non-null   object \n",
      " 4   Price              7980 non-null   float64\n",
      "dtypes: float64(1), int64(1), object(3)\n",
      "memory usage: 311.8+ KB\n"
     ]
    }
   ],
   "source": [
    "df.info()\n",
    "#Kilometers_Driven column is numeric but type is shown as object which has to be converted "
   ]
  },
  {
   "cell_type": "code",
   "execution_count": 16,
   "id": "3b1dba30",
   "metadata": {},
   "outputs": [
    {
     "data": {
      "text/plain": [
       "Unnamed: 0           0\n",
       "Fuel                 0\n",
       "Kilometers_Driven    0\n",
       "Transmission         0\n",
       "Price                0\n",
       "dtype: int64"
      ]
     },
     "execution_count": 16,
     "metadata": {},
     "output_type": "execute_result"
    }
   ],
   "source": [
    "df.isnull().sum()\n",
    "#No null values in the dataset"
   ]
  },
  {
   "cell_type": "code",
   "execution_count": 20,
   "id": "383ee073",
   "metadata": {},
   "outputs": [
    {
     "data": {
      "text/html": [
       "<div>\n",
       "<style scoped>\n",
       "    .dataframe tbody tr th:only-of-type {\n",
       "        vertical-align: middle;\n",
       "    }\n",
       "\n",
       "    .dataframe tbody tr th {\n",
       "        vertical-align: top;\n",
       "    }\n",
       "\n",
       "    .dataframe thead th {\n",
       "        text-align: right;\n",
       "    }\n",
       "</style>\n",
       "<table border=\"1\" class=\"dataframe\">\n",
       "  <thead>\n",
       "    <tr style=\"text-align: right;\">\n",
       "      <th></th>\n",
       "      <th>Unnamed: 0</th>\n",
       "      <th>Fuel</th>\n",
       "      <th>Kilometers_Driven</th>\n",
       "      <th>Transmission</th>\n",
       "      <th>Price</th>\n",
       "    </tr>\n",
       "  </thead>\n",
       "  <tbody>\n",
       "    <tr>\n",
       "      <th>0</th>\n",
       "      <td>0</td>\n",
       "      <td>Petrol</td>\n",
       "      <td>27,200</td>\n",
       "      <td>Automatic</td>\n",
       "      <td>6.90</td>\n",
       "    </tr>\n",
       "    <tr>\n",
       "      <th>1</th>\n",
       "      <td>1</td>\n",
       "      <td>Petrol</td>\n",
       "      <td>45,716</td>\n",
       "      <td>Manual</td>\n",
       "      <td>8.99</td>\n",
       "    </tr>\n",
       "    <tr>\n",
       "      <th>2</th>\n",
       "      <td>2</td>\n",
       "      <td>Diesel</td>\n",
       "      <td>46,365</td>\n",
       "      <td>Manual</td>\n",
       "      <td>7.72</td>\n",
       "    </tr>\n",
       "    <tr>\n",
       "      <th>3</th>\n",
       "      <td>3</td>\n",
       "      <td>Petrol</td>\n",
       "      <td>30,480</td>\n",
       "      <td>Manual</td>\n",
       "      <td>4.50</td>\n",
       "    </tr>\n",
       "    <tr>\n",
       "      <th>4</th>\n",
       "      <td>4</td>\n",
       "      <td>Petrol</td>\n",
       "      <td>82,496</td>\n",
       "      <td>Manual</td>\n",
       "      <td>8.72</td>\n",
       "    </tr>\n",
       "    <tr>\n",
       "      <th>...</th>\n",
       "      <td>...</td>\n",
       "      <td>...</td>\n",
       "      <td>...</td>\n",
       "      <td>...</td>\n",
       "      <td>...</td>\n",
       "    </tr>\n",
       "    <tr>\n",
       "      <th>7975</th>\n",
       "      <td>7975</td>\n",
       "      <td>Petrol</td>\n",
       "      <td>32,447</td>\n",
       "      <td>Manual</td>\n",
       "      <td>28.99</td>\n",
       "    </tr>\n",
       "    <tr>\n",
       "      <th>7976</th>\n",
       "      <td>7976</td>\n",
       "      <td>Diesel</td>\n",
       "      <td>70,865</td>\n",
       "      <td>Manual</td>\n",
       "      <td>17.50</td>\n",
       "    </tr>\n",
       "    <tr>\n",
       "      <th>7977</th>\n",
       "      <td>7977</td>\n",
       "      <td>Petrol</td>\n",
       "      <td>18,603</td>\n",
       "      <td>Manual</td>\n",
       "      <td>23.75</td>\n",
       "    </tr>\n",
       "    <tr>\n",
       "      <th>7978</th>\n",
       "      <td>7978</td>\n",
       "      <td>Diesel</td>\n",
       "      <td>98,628</td>\n",
       "      <td>Manual</td>\n",
       "      <td>17.50</td>\n",
       "    </tr>\n",
       "    <tr>\n",
       "      <th>7979</th>\n",
       "      <td>7979</td>\n",
       "      <td>Petrol</td>\n",
       "      <td>31,137</td>\n",
       "      <td>Manual</td>\n",
       "      <td>9.99</td>\n",
       "    </tr>\n",
       "  </tbody>\n",
       "</table>\n",
       "<p>7980 rows × 5 columns</p>\n",
       "</div>"
      ],
      "text/plain": [
       "      Unnamed: 0      Fuel Kilometers_Driven Transmission  Price\n",
       "0              0   Petrol             27,200    Automatic   6.90\n",
       "1              1   Petrol             45,716       Manual   8.99\n",
       "2              2   Diesel             46,365       Manual   7.72\n",
       "3              3   Petrol             30,480       Manual   4.50\n",
       "4              4   Petrol             82,496       Manual   8.72\n",
       "...          ...       ...               ...          ...    ...\n",
       "7975        7975   Petrol             32,447       Manual  28.99\n",
       "7976        7976   Diesel             70,865       Manual  17.50\n",
       "7977        7977   Petrol             18,603       Manual  23.75\n",
       "7978        7978   Diesel             98,628       Manual  17.50\n",
       "7979        7979   Petrol             31,137       Manual   9.99\n",
       "\n",
       "[7980 rows x 5 columns]"
      ]
     },
     "execution_count": 20,
     "metadata": {},
     "output_type": "execute_result"
    }
   ],
   "source": [
    "df"
   ]
  },
  {
   "cell_type": "code",
   "execution_count": 3,
   "id": "0822645b",
   "metadata": {},
   "outputs": [],
   "source": [
    "data=df.drop([\"Unnamed: 0\"], axis=1)\n",
    "#Unnamed: 0 column is replica of index, hence eliminating it"
   ]
  },
  {
   "cell_type": "code",
   "execution_count": 22,
   "id": "55ccabfe",
   "metadata": {},
   "outputs": [
    {
     "data": {
      "text/html": [
       "<div>\n",
       "<style scoped>\n",
       "    .dataframe tbody tr th:only-of-type {\n",
       "        vertical-align: middle;\n",
       "    }\n",
       "\n",
       "    .dataframe tbody tr th {\n",
       "        vertical-align: top;\n",
       "    }\n",
       "\n",
       "    .dataframe thead th {\n",
       "        text-align: right;\n",
       "    }\n",
       "</style>\n",
       "<table border=\"1\" class=\"dataframe\">\n",
       "  <thead>\n",
       "    <tr style=\"text-align: right;\">\n",
       "      <th></th>\n",
       "      <th>Fuel</th>\n",
       "      <th>Kilometers_Driven</th>\n",
       "      <th>Transmission</th>\n",
       "      <th>Price</th>\n",
       "    </tr>\n",
       "  </thead>\n",
       "  <tbody>\n",
       "    <tr>\n",
       "      <th>0</th>\n",
       "      <td>Petrol</td>\n",
       "      <td>27,200</td>\n",
       "      <td>Automatic</td>\n",
       "      <td>6.90</td>\n",
       "    </tr>\n",
       "    <tr>\n",
       "      <th>1</th>\n",
       "      <td>Petrol</td>\n",
       "      <td>45,716</td>\n",
       "      <td>Manual</td>\n",
       "      <td>8.99</td>\n",
       "    </tr>\n",
       "    <tr>\n",
       "      <th>2</th>\n",
       "      <td>Diesel</td>\n",
       "      <td>46,365</td>\n",
       "      <td>Manual</td>\n",
       "      <td>7.72</td>\n",
       "    </tr>\n",
       "    <tr>\n",
       "      <th>3</th>\n",
       "      <td>Petrol</td>\n",
       "      <td>30,480</td>\n",
       "      <td>Manual</td>\n",
       "      <td>4.50</td>\n",
       "    </tr>\n",
       "    <tr>\n",
       "      <th>4</th>\n",
       "      <td>Petrol</td>\n",
       "      <td>82,496</td>\n",
       "      <td>Manual</td>\n",
       "      <td>8.72</td>\n",
       "    </tr>\n",
       "    <tr>\n",
       "      <th>...</th>\n",
       "      <td>...</td>\n",
       "      <td>...</td>\n",
       "      <td>...</td>\n",
       "      <td>...</td>\n",
       "    </tr>\n",
       "    <tr>\n",
       "      <th>7975</th>\n",
       "      <td>Petrol</td>\n",
       "      <td>32,447</td>\n",
       "      <td>Manual</td>\n",
       "      <td>28.99</td>\n",
       "    </tr>\n",
       "    <tr>\n",
       "      <th>7976</th>\n",
       "      <td>Diesel</td>\n",
       "      <td>70,865</td>\n",
       "      <td>Manual</td>\n",
       "      <td>17.50</td>\n",
       "    </tr>\n",
       "    <tr>\n",
       "      <th>7977</th>\n",
       "      <td>Petrol</td>\n",
       "      <td>18,603</td>\n",
       "      <td>Manual</td>\n",
       "      <td>23.75</td>\n",
       "    </tr>\n",
       "    <tr>\n",
       "      <th>7978</th>\n",
       "      <td>Diesel</td>\n",
       "      <td>98,628</td>\n",
       "      <td>Manual</td>\n",
       "      <td>17.50</td>\n",
       "    </tr>\n",
       "    <tr>\n",
       "      <th>7979</th>\n",
       "      <td>Petrol</td>\n",
       "      <td>31,137</td>\n",
       "      <td>Manual</td>\n",
       "      <td>9.99</td>\n",
       "    </tr>\n",
       "  </tbody>\n",
       "</table>\n",
       "<p>7980 rows × 4 columns</p>\n",
       "</div>"
      ],
      "text/plain": [
       "          Fuel Kilometers_Driven Transmission  Price\n",
       "0      Petrol             27,200    Automatic   6.90\n",
       "1      Petrol             45,716       Manual   8.99\n",
       "2      Diesel             46,365       Manual   7.72\n",
       "3      Petrol             30,480       Manual   4.50\n",
       "4      Petrol             82,496       Manual   8.72\n",
       "...        ...               ...          ...    ...\n",
       "7975   Petrol             32,447       Manual  28.99\n",
       "7976   Diesel             70,865       Manual  17.50\n",
       "7977   Petrol             18,603       Manual  23.75\n",
       "7978   Diesel             98,628       Manual  17.50\n",
       "7979   Petrol             31,137       Manual   9.99\n",
       "\n",
       "[7980 rows x 4 columns]"
      ]
     },
     "execution_count": 22,
     "metadata": {},
     "output_type": "execute_result"
    }
   ],
   "source": [
    "data"
   ]
  },
  {
   "cell_type": "code",
   "execution_count": 4,
   "id": "41ffb076",
   "metadata": {},
   "outputs": [],
   "source": [
    "data['Kilometers_Driven']=data['Kilometers_Driven'].str.replace(',','')"
   ]
  },
  {
   "cell_type": "code",
   "execution_count": 5,
   "id": "d5866c34",
   "metadata": {
    "scrolled": true
   },
   "outputs": [],
   "source": [
    "data[\"Kilometers_Driven\"]=data[\"Kilometers_Driven\"].astype(\"int64\")"
   ]
  },
  {
   "cell_type": "markdown",
   "id": "e890134c",
   "metadata": {},
   "source": [
    "# Univariate Analysis"
   ]
  },
  {
   "cell_type": "code",
   "execution_count": 9,
   "id": "c6ff28b2",
   "metadata": {},
   "outputs": [
    {
     "data": {
      "image/png": "[encoded data removed]",
      "text/plain": [
       "<Figure size 504x504 with 1 Axes>"
      ]
     },
     "metadata": {
      "needs_background": "light"
     },
     "output_type": "display_data"
    }
   ],
   "source": [
    "plt.figure(figsize=(7,7))\n",
    "plt.hist(data[\"Kilometers_Driven\"])\n",
    "plt.show()\n",
    "\n",
    "#Kilometer-driven is ranging from 5000 to 125000 and 1300-1400 cars have 30000 to 50000 kilometres-driven."
   ]
  },
  {
   "cell_type": "code",
   "execution_count": 10,
   "id": "5dc40bab",
   "metadata": {},
   "outputs": [
    {
     "data": {
      "text/plain": [
       "<AxesSubplot:xlabel='Fuel', ylabel='count'>"
      ]
     },
     "execution_count": 10,
     "metadata": {},
     "output_type": "execute_result"
    },
    {
     "data": {
      "image/png": "[encoded data removed]",
      "text/plain": [
       "<Figure size 504x504 with 1 Axes>"
      ]
     },
     "metadata": {
      "needs_background": "light"
     },
     "output_type": "display_data"
    }
   ],
   "source": [
    "plt.figure(figsize=(7,7))\n",
    "sns.countplot(data[\"Fuel\"])\n",
    "\n",
    "#4500 cars have Petrol fuel and 3500 cars have Diesel fuel and very few cars have CNG type fuel."
   ]
  },
  {
   "cell_type": "code",
   "execution_count": 11,
   "id": "7e3811d6",
   "metadata": {
    "scrolled": true
   },
   "outputs": [
    {
     "data": {
      "text/plain": [
       "<AxesSubplot:xlabel='Transmission', ylabel='count'>"
      ]
     },
     "execution_count": 11,
     "metadata": {},
     "output_type": "execute_result"
    },
    {
     "data": {
      "image/png": "[encoded data removed]",
      "text/plain": [
       "<Figure size 504x504 with 1 Axes>"
      ]
     },
     "metadata": {
      "needs_background": "light"
     },
     "output_type": "display_data"
    }
   ],
   "source": [
    "plt.figure(figsize=(7,7))\n",
    "sns.countplot(data[\"Transmission\"])\n",
    "\n",
    "#6200 cars have Manual Transmission and 1600 cars have Automatic Transmission"
   ]
  },
  {
   "cell_type": "code",
   "execution_count": 12,
   "id": "6b9abb9c",
   "metadata": {},
   "outputs": [
    {
     "data": {
      "image/png": "[encoded data removed]",
      "text/plain": [
       "<Figure size 504x504 with 1 Axes>"
      ]
     },
     "metadata": {
      "needs_background": "light"
     },
     "output_type": "display_data"
    }
   ],
   "source": [
    "plt.figure(figsize=(7,7))\n",
    "plt.hist(data[\"Price\"])\n",
    "plt.show()\n",
    "\n",
    "#5500 cars have price from 2-5 lakhs followed by 1600 cars have price from 5-15 lakhs."
   ]
  },
  {
   "cell_type": "markdown",
   "id": "967edda0",
   "metadata": {},
   "source": [
    "# Bivariate Analysis"
   ]
  },
  {
   "cell_type": "code",
   "execution_count": 13,
   "id": "8d87b3eb",
   "metadata": {},
   "outputs": [
    {
     "data": {
      "text/plain": [
       "<AxesSubplot:xlabel='Kilometers_Driven', ylabel='Price'>"
      ]
     },
     "execution_count": 13,
     "metadata": {},
     "output_type": "execute_result"
    },
    {
     "data": {
      "image/png": "[encoded data removed]",
      "text/plain": [
       "<Figure size 504x504 with 1 Axes>"
      ]
     },
     "metadata": {
      "needs_background": "light"
     },
     "output_type": "display_data"
    }
   ],
   "source": [
    "plt.figure(figsize=(7,7))\n",
    "sns.scatterplot(data['Kilometers_Driven'],y=data['Price'])\n",
    "\n",
    "#When the car has less kilometres driven the price is higher"
   ]
  },
  {
   "cell_type": "code",
   "execution_count": 14,
   "id": "ebef4cec",
   "metadata": {},
   "outputs": [
    {
     "data": {
      "text/plain": [
       "<AxesSubplot:xlabel='Fuel', ylabel='Price'>"
      ]
     },
     "execution_count": 14,
     "metadata": {},
     "output_type": "execute_result"
    },
    {
     "data": {
      "image/png": "[encoded data removed]",
      "text/plain": [
       "<Figure size 504x504 with 1 Axes>"
      ]
     },
     "metadata": {
      "needs_background": "light"
     },
     "output_type": "display_data"
    }
   ],
   "source": [
    "plt.figure(figsize=(7,7))\n",
    "sns.barplot(x=data['Fuel'],y=data['Price'])\n",
    "\n",
    "#With respect to fuel, used cars with Diesel fuel have higher price followed by Petrol and CNG."
   ]
  },
  {
   "cell_type": "code",
   "execution_count": 78,
   "id": "a4afa394",
   "metadata": {},
   "outputs": [
    {
     "data": {
      "text/plain": [
       "<AxesSubplot:xlabel='Transmission', ylabel='Price'>"
      ]
     },
     "execution_count": 78,
     "metadata": {},
     "output_type": "execute_result"
    },
    {
     "data": {
      "image/png": "[encoded data removed]",
      "text/plain": [
       "<Figure size 504x504 with 1 Axes>"
      ]
     },
     "metadata": {
      "needs_background": "light"
     },
     "output_type": "display_data"
    }
   ],
   "source": [
    "plt.figure(figsize=(7,7))\n",
    "sns.barplot(x=data['Transmission'],y=data['Price'])\n",
    "\n",
    "#Automatic Transmission cars have higher price compared to Manual Transmission cars.\n",
    "#Automatic cars have price of 15 lakhs and Manual cars have price of 6 lakhs."
   ]
  },
  {
   "cell_type": "markdown",
   "id": "4882eb92",
   "metadata": {},
   "source": [
    "# Encoding Categorical Features"
   ]
  },
  {
   "cell_type": "code",
   "execution_count": 6,
   "id": "11c97af6",
   "metadata": {},
   "outputs": [],
   "source": [
    "from sklearn.preprocessing import LabelEncoder\n",
    "le=LabelEncoder()\n",
    "\n",
    "\n",
    "df_en=[i for i in data.columns if data[i].dtypes=='object']"
   ]
  },
  {
   "cell_type": "code",
   "execution_count": 7,
   "id": "147c5999",
   "metadata": {},
   "outputs": [],
   "source": [
    "for i in df_en:\n",
    "    data[i]=le.fit_transform(data[i].values.reshape(-1,1))"
   ]
  },
  {
   "cell_type": "code",
   "execution_count": 8,
   "id": "f74828f2",
   "metadata": {},
   "outputs": [
    {
     "data": {
      "text/html": [
       "<div>\n",
       "<style scoped>\n",
       "    .dataframe tbody tr th:only-of-type {\n",
       "        vertical-align: middle;\n",
       "    }\n",
       "\n",
       "    .dataframe tbody tr th {\n",
       "        vertical-align: top;\n",
       "    }\n",
       "\n",
       "    .dataframe thead th {\n",
       "        text-align: right;\n",
       "    }\n",
       "</style>\n",
       "<table border=\"1\" class=\"dataframe\">\n",
       "  <thead>\n",
       "    <tr style=\"text-align: right;\">\n",
       "      <th></th>\n",
       "      <th>Fuel</th>\n",
       "      <th>Kilometers_Driven</th>\n",
       "      <th>Transmission</th>\n",
       "      <th>Price</th>\n",
       "    </tr>\n",
       "  </thead>\n",
       "  <tbody>\n",
       "    <tr>\n",
       "      <th>0</th>\n",
       "      <td>2</td>\n",
       "      <td>27200</td>\n",
       "      <td>0</td>\n",
       "      <td>6.90</td>\n",
       "    </tr>\n",
       "    <tr>\n",
       "      <th>1</th>\n",
       "      <td>2</td>\n",
       "      <td>45716</td>\n",
       "      <td>1</td>\n",
       "      <td>8.99</td>\n",
       "    </tr>\n",
       "    <tr>\n",
       "      <th>2</th>\n",
       "      <td>1</td>\n",
       "      <td>46365</td>\n",
       "      <td>1</td>\n",
       "      <td>7.72</td>\n",
       "    </tr>\n",
       "    <tr>\n",
       "      <th>3</th>\n",
       "      <td>2</td>\n",
       "      <td>30480</td>\n",
       "      <td>1</td>\n",
       "      <td>4.50</td>\n",
       "    </tr>\n",
       "    <tr>\n",
       "      <th>4</th>\n",
       "      <td>2</td>\n",
       "      <td>82496</td>\n",
       "      <td>1</td>\n",
       "      <td>8.72</td>\n",
       "    </tr>\n",
       "    <tr>\n",
       "      <th>...</th>\n",
       "      <td>...</td>\n",
       "      <td>...</td>\n",
       "      <td>...</td>\n",
       "      <td>...</td>\n",
       "    </tr>\n",
       "    <tr>\n",
       "      <th>7975</th>\n",
       "      <td>2</td>\n",
       "      <td>32447</td>\n",
       "      <td>1</td>\n",
       "      <td>28.99</td>\n",
       "    </tr>\n",
       "    <tr>\n",
       "      <th>7976</th>\n",
       "      <td>1</td>\n",
       "      <td>70865</td>\n",
       "      <td>1</td>\n",
       "      <td>17.50</td>\n",
       "    </tr>\n",
       "    <tr>\n",
       "      <th>7977</th>\n",
       "      <td>2</td>\n",
       "      <td>18603</td>\n",
       "      <td>1</td>\n",
       "      <td>23.75</td>\n",
       "    </tr>\n",
       "    <tr>\n",
       "      <th>7978</th>\n",
       "      <td>1</td>\n",
       "      <td>98628</td>\n",
       "      <td>1</td>\n",
       "      <td>17.50</td>\n",
       "    </tr>\n",
       "    <tr>\n",
       "      <th>7979</th>\n",
       "      <td>2</td>\n",
       "      <td>31137</td>\n",
       "      <td>1</td>\n",
       "      <td>9.99</td>\n",
       "    </tr>\n",
       "  </tbody>\n",
       "</table>\n",
       "<p>7980 rows × 4 columns</p>\n",
       "</div>"
      ],
      "text/plain": [
       "      Fuel  Kilometers_Driven  Transmission  Price\n",
       "0        2              27200             0   6.90\n",
       "1        2              45716             1   8.99\n",
       "2        1              46365             1   7.72\n",
       "3        2              30480             1   4.50\n",
       "4        2              82496             1   8.72\n",
       "...    ...                ...           ...    ...\n",
       "7975     2              32447             1  28.99\n",
       "7976     1              70865             1  17.50\n",
       "7977     2              18603             1  23.75\n",
       "7978     1              98628             1  17.50\n",
       "7979     2              31137             1   9.99\n",
       "\n",
       "[7980 rows x 4 columns]"
      ]
     },
     "execution_count": 8,
     "metadata": {},
     "output_type": "execute_result"
    }
   ],
   "source": [
    "data"
   ]
  },
  {
   "cell_type": "markdown",
   "id": "41ede493",
   "metadata": {},
   "source": [
    "# Treating Outliers"
   ]
  },
  {
   "cell_type": "code",
   "execution_count": 32,
   "id": "a7387d69",
   "metadata": {},
   "outputs": [
    {
     "data": {
      "image/png": "[encoded data removed]",
      "text/plain": [
       "<Figure size 360x360 with 4 Axes>"
      ]
     },
     "metadata": {
      "needs_background": "light"
     },
     "output_type": "display_data"
    }
   ],
   "source": [
    "fig,ax=plt.subplots(4,figsize=(5,5))\n",
    "plt1=sns.boxplot(df_new[\"Kilometers_Driven\"],ax=ax[0])\n",
    "plt2=sns.boxplot(df_new[\"Fuel\"],ax=ax[1])\n",
    "plt1=sns.boxplot(df_new[\"Transmission\"],ax=ax[2])\n",
    "plt2=sns.boxplot(df_new[\"Price\"],ax=ax[3])\n",
    "plt.tight_layout()"
   ]
  },
  {
   "cell_type": "code",
   "execution_count": 9,
   "id": "033ee6ad",
   "metadata": {},
   "outputs": [],
   "source": [
    "#Checking Z-Score for Outliers\n",
    "from scipy import stats\n",
    "clist=data.columns.values\n",
    "\n",
    "z1=abs(stats.zscore(data[clist]))"
   ]
  },
  {
   "cell_type": "code",
   "execution_count": 10,
   "id": "ba24f985",
   "metadata": {
    "scrolled": true
   },
   "outputs": [
    {
     "data": {
      "text/plain": [
       "(array([  19,   39,   59,   79,   99,  119,  139,  159,  179,  199,  219,\n",
       "         239,  259,  279,  299,  319,  359,  399,  439,  479,  519,  559,\n",
       "         599,  639,  679,  719,  759,  799,  839,  899,  959, 1019, 1079,\n",
       "        1139, 1199, 1259, 1319, 1379, 1439, 1499, 1559, 1619, 1679, 1739,\n",
       "        1819, 1899, 1979, 2059, 2139, 2219, 2299, 2379, 2459, 2539, 2619,\n",
       "        2699, 2779, 2859, 2939, 3039, 3139, 3239, 3339, 3439, 3539, 3639,\n",
       "        3739, 3839, 3939, 4039, 4139, 4239, 4321, 4327, 4359, 4441, 4447,\n",
       "        4479, 4561, 4567, 4599, 4681, 4687, 4719, 4801, 4807, 4839, 4921,\n",
       "        4927, 4959, 5041, 5047, 5079, 5161, 5167, 5199, 5281, 5287, 5319,\n",
       "        5401, 5407, 5439, 5521, 5527, 5559, 5641, 5647, 5679, 5761, 5767,\n",
       "        5799, 5881, 5887, 5919, 6001, 6007, 6039, 6121, 6127, 6179, 6261,\n",
       "        6267, 6271, 6319, 6401, 6407, 6411, 6459, 6541, 6547, 6551, 6599,\n",
       "        6681, 6687, 6691, 6739, 6821, 6827, 6831, 6879, 6961, 6967, 6971,\n",
       "        7019, 7101, 7107, 7111, 7159, 7241, 7247, 7251, 7299, 7381, 7387,\n",
       "        7391, 7439, 7521, 7527, 7531, 7579, 7661, 7667, 7671, 7719, 7801,\n",
       "        7807, 7811, 7859, 7941, 7947, 7951], dtype=int64),\n",
       " array([3, 3, 3, 3, 3, 3, 3, 3, 3, 3, 3, 3, 3, 3, 3, 3, 3, 3, 3, 3, 3, 3,\n",
       "        3, 3, 3, 3, 3, 3, 3, 3, 3, 3, 3, 3, 3, 3, 3, 3, 3, 3, 3, 3, 3, 3,\n",
       "        3, 3, 3, 3, 3, 3, 3, 3, 3, 3, 3, 3, 3, 3, 3, 3, 3, 3, 3, 3, 3, 3,\n",
       "        3, 3, 3, 3, 3, 3, 3, 3, 3, 3, 3, 3, 3, 3, 3, 3, 3, 3, 3, 3, 3, 3,\n",
       "        3, 3, 3, 3, 3, 3, 3, 3, 3, 3, 3, 3, 3, 3, 3, 3, 3, 3, 3, 3, 3, 3,\n",
       "        3, 3, 3, 3, 3, 3, 3, 3, 3, 3, 3, 3, 0, 3, 3, 3, 0, 3, 3, 3, 0, 3,\n",
       "        3, 3, 0, 3, 3, 3, 0, 3, 3, 3, 0, 3, 3, 3, 0, 3, 3, 3, 0, 3, 3, 3,\n",
       "        0, 3, 3, 3, 0, 3, 3, 3, 0, 3, 3, 3, 0, 3, 3, 3, 0], dtype=int64))"
      ]
     },
     "execution_count": 10,
     "metadata": {},
     "output_type": "execute_result"
    }
   ],
   "source": [
    "x=np.where(z1>3)\n",
    "x"
   ]
  },
  {
   "cell_type": "code",
   "execution_count": 11,
   "id": "a4fbe84f",
   "metadata": {},
   "outputs": [],
   "source": [
    "df_z=data[(z1 < 3).all(axis=1)]"
   ]
  },
  {
   "cell_type": "code",
   "execution_count": 12,
   "id": "a584cac3",
   "metadata": {},
   "outputs": [
    {
     "name": "stdout",
     "output_type": "stream",
     "text": [
      "(7980, 4) (7809, 4)\n"
     ]
    }
   ],
   "source": [
    "print(data.shape,df_z.shape)"
   ]
  },
  {
   "cell_type": "code",
   "execution_count": 13,
   "id": "107f3f93",
   "metadata": {},
   "outputs": [
    {
     "name": "stdout",
     "output_type": "stream",
     "text": [
      "2.14\n"
     ]
    }
   ],
   "source": [
    "#%data loss\n",
    "a=(data.shape[0]-df_z.shape[0])/data.shape[0]\n",
    "print(round(a*100,2))"
   ]
  },
  {
   "cell_type": "code",
   "execution_count": 46,
   "id": "13a540c2",
   "metadata": {},
   "outputs": [
    {
     "data": {
      "text/plain": [
       "<AxesSubplot:>"
      ]
     },
     "execution_count": 46,
     "metadata": {},
     "output_type": "execute_result"
    },
    {
     "data": {
      "image/png": "[encoded data removed]",
      "text/plain": [
       "<Figure size 288x288 with 2 Axes>"
      ]
     },
     "metadata": {
      "needs_background": "light"
     },
     "output_type": "display_data"
    }
   ],
   "source": [
    "#Checking Correlation by plotting heatmap\n",
    "plt.figure(figsize=(4,4))\n",
    "sns.heatmap(df_z.corr(),annot=True)"
   ]
  },
  {
   "cell_type": "markdown",
   "id": "fd29cdaf",
   "metadata": {},
   "source": [
    "# Splitting Features and Target"
   ]
  },
  {
   "cell_type": "code",
   "execution_count": 14,
   "id": "41ec844f",
   "metadata": {},
   "outputs": [],
   "source": [
    "df_copy=df_z.copy()"
   ]
  },
  {
   "cell_type": "code",
   "execution_count": 15,
   "id": "0a0d0ddd",
   "metadata": {},
   "outputs": [],
   "source": [
    "#Splitting features and Target\n",
    "X=df_copy.drop(\"Price\",axis=1)\n",
    "Y=df_copy[[\"Price\"]]"
   ]
  },
  {
   "cell_type": "code",
   "execution_count": 16,
   "id": "1a9128aa",
   "metadata": {},
   "outputs": [],
   "source": [
    "#Scaling the features\n",
    "\n",
    "from sklearn.preprocessing import MinMaxScaler\n",
    "\n",
    "scaler=MinMaxScaler()\n",
    "X_s=scaler.fit_transform(X)"
   ]
  },
  {
   "cell_type": "code",
   "execution_count": 17,
   "id": "b4e53989",
   "metadata": {},
   "outputs": [],
   "source": [
    "#Applying power transform\n",
    "from sklearn.preprocessing import power_transform\n",
    "\n",
    "Xpt=power_transform(X_s)\n"
   ]
  },
  {
   "cell_type": "code",
   "execution_count": 140,
   "id": "43662e9f",
   "metadata": {},
   "outputs": [],
   "source": [
    "from sklearn.model_selection import train_test_split\n",
    "\n",
    "from sklearn.linear_model import LinearRegression\n",
    "\n",
    "from sklearn.ensemble import RandomForestRegressor\n",
    "\n",
    "from sklearn.tree import DecisionTreeRegressor\n",
    "\n",
    "from sklearn.neighbors import KNeighborsRegressor\n",
    "\n",
    "from sklearn.svm import SVR\n",
    "\n",
    "from sklearn.ensemble import GradientBoostingRegressor\n",
    "\n",
    "from xgboost import XGBRegressor\n",
    "\n",
    "from sklearn.ensemble import AdaBoostRegressor\n",
    "\n",
    "\n",
    "from sklearn.metrics import r2_score,mean_absolute_error,mean_squared_error,mean_absolute_percentage_error"
   ]
  },
  {
   "cell_type": "code",
   "execution_count": 141,
   "id": "34e7c956",
   "metadata": {},
   "outputs": [],
   "source": [
    "lr=LinearRegression()\n",
    "\n",
    "dt=DecisionTreeRegressor()\n",
    "\n",
    "rf=RandomForestRegressor()\n",
    "\n",
    "kn=KNeighborsRegressor(n_neighbors=3)\n",
    "\n",
    "sv=SVR()\n",
    "\n",
    "gb=GradientBoostingRegressor()\n",
    "\n",
    "x=XGBRegressor()\n",
    "\n",
    "ab=AdaBoostRegressor()\n",
    "\n",
    "\n",
    "lst=[lr,dt,rf,kn,sv,gb,x,ab]"
   ]
  },
  {
   "cell_type": "code",
   "execution_count": 142,
   "id": "c945f96c",
   "metadata": {},
   "outputs": [
    {
     "name": "stdout",
     "output_type": "stream",
     "text": [
      "Model: LinearRegression() random state 0 has r2 score-test 0.31 and r2 score-train 0.28 Mean Absolute Percentage Error is 0.51\n",
      "Model: LinearRegression() random state 1 has r2 score-test 0.27 and r2 score-train 0.29 Mean Absolute Percentage Error is 0.5\n",
      "Model: LinearRegression() random state 2 has r2 score-test 0.22 and r2 score-train 0.3 Mean Absolute Percentage Error is 0.5\n",
      "Model: LinearRegression() random state 3 has r2 score-test 0.26 and r2 score-train 0.29 Mean Absolute Percentage Error is 0.48\n",
      "Model: LinearRegression() random state 4 has r2 score-test 0.26 and r2 score-train 0.29 Mean Absolute Percentage Error is 0.5\n",
      "Model: LinearRegression() random state 5 has r2 score-test 0.31 and r2 score-train 0.28 Mean Absolute Percentage Error is 0.48\n",
      "Model: DecisionTreeRegressor() random state 0 has r2 score-test 0.73 and r2 score-train 0.69 Mean Absolute Percentage Error is 0.26\n",
      "Model: DecisionTreeRegressor() random state 1 has r2 score-test 0.68 and r2 score-train 0.7 Mean Absolute Percentage Error is 0.26\n",
      "Model: DecisionTreeRegressor() random state 2 has r2 score-test 0.66 and r2 score-train 0.71 Mean Absolute Percentage Error is 0.25\n",
      "Model: DecisionTreeRegressor() random state 3 has r2 score-test 0.62 and r2 score-train 0.72 Mean Absolute Percentage Error is 0.26\n",
      "Model: DecisionTreeRegressor() random state 4 has r2 score-test 0.69 and r2 score-train 0.71 Mean Absolute Percentage Error is 0.26\n",
      "Model: DecisionTreeRegressor() random state 5 has r2 score-test 0.69 and r2 score-train 0.7 Mean Absolute Percentage Error is 0.25\n",
      "Model: RandomForestRegressor() random state 0 has r2 score-test 0.73 and r2 score-train 0.69 Mean Absolute Percentage Error is 0.26\n",
      "Model: RandomForestRegressor() random state 1 has r2 score-test 0.68 and r2 score-train 0.7 Mean Absolute Percentage Error is 0.26\n",
      "Model: RandomForestRegressor() random state 2 has r2 score-test 0.66 and r2 score-train 0.71 Mean Absolute Percentage Error is 0.25\n",
      "Model: RandomForestRegressor() random state 3 has r2 score-test 0.62 and r2 score-train 0.71 Mean Absolute Percentage Error is 0.26\n",
      "Model: RandomForestRegressor() random state 4 has r2 score-test 0.69 and r2 score-train 0.7 Mean Absolute Percentage Error is 0.26\n",
      "Model: RandomForestRegressor() random state 5 has r2 score-test 0.69 and r2 score-train 0.7 Mean Absolute Percentage Error is 0.25\n",
      "Model: KNeighborsRegressor(n_neighbors=3) random state 0 has r2 score-test 0.62 and r2 score-train 0.55 Mean Absolute Percentage Error is 0.23\n",
      "Model: KNeighborsRegressor(n_neighbors=3) random state 1 has r2 score-test 0.56 and r2 score-train 0.6 Mean Absolute Percentage Error is 0.3\n",
      "Model: KNeighborsRegressor(n_neighbors=3) random state 2 has r2 score-test 0.58 and r2 score-train 0.62 Mean Absolute Percentage Error is 0.26\n",
      "Model: KNeighborsRegressor(n_neighbors=3) random state 3 has r2 score-test 0.52 and r2 score-train 0.61 Mean Absolute Percentage Error is 0.26\n",
      "Model: KNeighborsRegressor(n_neighbors=3) random state 4 has r2 score-test 0.58 and r2 score-train 0.57 Mean Absolute Percentage Error is 0.29\n",
      "Model: KNeighborsRegressor(n_neighbors=3) random state 5 has r2 score-test 0.58 and r2 score-train 0.6 Mean Absolute Percentage Error is 0.27\n",
      "Model: SVR() random state 0 has r2 score-test 0.34 and r2 score-train 0.32 Mean Absolute Percentage Error is 0.39\n",
      "Model: SVR() random state 1 has r2 score-test 0.33 and r2 score-train 0.34 Mean Absolute Percentage Error is 0.38\n",
      "Model: SVR() random state 2 has r2 score-test 0.27 and r2 score-train 0.35 Mean Absolute Percentage Error is 0.39\n",
      "Model: SVR() random state 3 has r2 score-test 0.28 and r2 score-train 0.34 Mean Absolute Percentage Error is 0.38\n",
      "Model: SVR() random state 4 has r2 score-test 0.31 and r2 score-train 0.33 Mean Absolute Percentage Error is 0.39\n",
      "Model: SVR() random state 5 has r2 score-test 0.34 and r2 score-train 0.32 Mean Absolute Percentage Error is 0.37\n",
      "Model: GradientBoostingRegressor() random state 0 has r2 score-test 0.62 and r2 score-train 0.59 Mean Absolute Percentage Error is 0.36\n",
      "Model: GradientBoostingRegressor() random state 1 has r2 score-test 0.59 and r2 score-train 0.61 Mean Absolute Percentage Error is 0.35\n",
      "Model: GradientBoostingRegressor() random state 2 has r2 score-test 0.56 and r2 score-train 0.61 Mean Absolute Percentage Error is 0.35\n",
      "Model: GradientBoostingRegressor() random state 3 has r2 score-test 0.55 and r2 score-train 0.62 Mean Absolute Percentage Error is 0.35\n",
      "Model: GradientBoostingRegressor() random state 4 has r2 score-test 0.58 and r2 score-train 0.6 Mean Absolute Percentage Error is 0.36\n",
      "Model: GradientBoostingRegressor() random state 5 has r2 score-test 0.6 and r2 score-train 0.6 Mean Absolute Percentage Error is 0.35\n",
      "Model: XGBRegressor(base_score=0.5, booster='gbtree', callbacks=None,\n",
      "             colsample_bylevel=1, colsample_bynode=1, colsample_bytree=1,\n",
      "             early_stopping_rounds=None, enable_categorical=False,\n",
      "             eval_metric=None, gamma=0, gpu_id=-1, grow_policy='depthwise',\n",
      "             importance_type=None, interaction_constraints='',\n",
      "             learning_rate=0.300000012, max_bin=256, max_cat_to_onehot=4,\n",
      "             max_delta_step=0, max_depth=6, max_leaves=0, min_child_weight=1,\n",
      "             missing=nan, monotone_constraints='()', n_estimators=100, n_jobs=0,\n",
      "             num_parallel_tree=1, predictor='auto', random_state=0, reg_alpha=0,\n",
      "             reg_lambda=1, ...) random state 0 has r2 score-test 0.73 and r2 score-train 0.69 Mean Absolute Percentage Error is 0.26\n",
      "Model: XGBRegressor(base_score=0.5, booster='gbtree', callbacks=None,\n",
      "             colsample_bylevel=1, colsample_bynode=1, colsample_bytree=1,\n",
      "             early_stopping_rounds=None, enable_categorical=False,\n",
      "             eval_metric=None, gamma=0, gpu_id=-1, grow_policy='depthwise',\n",
      "             importance_type=None, interaction_constraints='',\n",
      "             learning_rate=0.300000012, max_bin=256, max_cat_to_onehot=4,\n",
      "             max_delta_step=0, max_depth=6, max_leaves=0, min_child_weight=1,\n",
      "             missing=nan, monotone_constraints='()', n_estimators=100, n_jobs=0,\n",
      "             num_parallel_tree=1, predictor='auto', random_state=0, reg_alpha=0,\n",
      "             reg_lambda=1, ...) random state 1 has r2 score-test 0.68 and r2 score-train 0.7 Mean Absolute Percentage Error is 0.26\n",
      "Model: XGBRegressor(base_score=0.5, booster='gbtree', callbacks=None,\n",
      "             colsample_bylevel=1, colsample_bynode=1, colsample_bytree=1,\n",
      "             early_stopping_rounds=None, enable_categorical=False,\n",
      "             eval_metric=None, gamma=0, gpu_id=-1, grow_policy='depthwise',\n",
      "             importance_type=None, interaction_constraints='',\n",
      "             learning_rate=0.300000012, max_bin=256, max_cat_to_onehot=4,\n",
      "             max_delta_step=0, max_depth=6, max_leaves=0, min_child_weight=1,\n",
      "             missing=nan, monotone_constraints='()', n_estimators=100, n_jobs=0,\n",
      "             num_parallel_tree=1, predictor='auto', random_state=0, reg_alpha=0,\n",
      "             reg_lambda=1, ...) random state 2 has r2 score-test 0.66 and r2 score-train 0.71 Mean Absolute Percentage Error is 0.25\n",
      "Model: XGBRegressor(base_score=0.5, booster='gbtree', callbacks=None,\n",
      "             colsample_bylevel=1, colsample_bynode=1, colsample_bytree=1,\n",
      "             early_stopping_rounds=None, enable_categorical=False,\n",
      "             eval_metric=None, gamma=0, gpu_id=-1, grow_policy='depthwise',\n",
      "             importance_type=None, interaction_constraints='',\n",
      "             learning_rate=0.300000012, max_bin=256, max_cat_to_onehot=4,\n",
      "             max_delta_step=0, max_depth=6, max_leaves=0, min_child_weight=1,\n",
      "             missing=nan, monotone_constraints='()', n_estimators=100, n_jobs=0,\n",
      "             num_parallel_tree=1, predictor='auto', random_state=0, reg_alpha=0,\n",
      "             reg_lambda=1, ...) random state 3 has r2 score-test 0.63 and r2 score-train 0.72 Mean Absolute Percentage Error is 0.26\n",
      "Model: XGBRegressor(base_score=0.5, booster='gbtree', callbacks=None,\n",
      "             colsample_bylevel=1, colsample_bynode=1, colsample_bytree=1,\n",
      "             early_stopping_rounds=None, enable_categorical=False,\n",
      "             eval_metric=None, gamma=0, gpu_id=-1, grow_policy='depthwise',\n",
      "             importance_type=None, interaction_constraints='',\n",
      "             learning_rate=0.300000012, max_bin=256, max_cat_to_onehot=4,\n",
      "             max_delta_step=0, max_depth=6, max_leaves=0, min_child_weight=1,\n",
      "             missing=nan, monotone_constraints='()', n_estimators=100, n_jobs=0,\n",
      "             num_parallel_tree=1, predictor='auto', random_state=0, reg_alpha=0,\n",
      "             reg_lambda=1, ...) random state 4 has r2 score-test 0.69 and r2 score-train 0.71 Mean Absolute Percentage Error is 0.26\n"
     ]
    },
    {
     "name": "stdout",
     "output_type": "stream",
     "text": [
      "Model: XGBRegressor(base_score=0.5, booster='gbtree', callbacks=None,\n",
      "             colsample_bylevel=1, colsample_bynode=1, colsample_bytree=1,\n",
      "             early_stopping_rounds=None, enable_categorical=False,\n",
      "             eval_metric=None, gamma=0, gpu_id=-1, grow_policy='depthwise',\n",
      "             importance_type=None, interaction_constraints='',\n",
      "             learning_rate=0.300000012, max_bin=256, max_cat_to_onehot=4,\n",
      "             max_delta_step=0, max_depth=6, max_leaves=0, min_child_weight=1,\n",
      "             missing=nan, monotone_constraints='()', n_estimators=100, n_jobs=0,\n",
      "             num_parallel_tree=1, predictor='auto', random_state=0, reg_alpha=0,\n",
      "             reg_lambda=1, ...) random state 5 has r2 score-test 0.69 and r2 score-train 0.7 Mean Absolute Percentage Error is 0.25\n",
      "Model: AdaBoostRegressor() random state 0 has r2 score-test 0.39 and r2 score-train 0.35 Mean Absolute Percentage Error is 0.63\n",
      "Model: AdaBoostRegressor() random state 1 has r2 score-test 0.29 and r2 score-train 0.32 Mean Absolute Percentage Error is 0.68\n",
      "Model: AdaBoostRegressor() random state 2 has r2 score-test 0.3 and r2 score-train 0.34 Mean Absolute Percentage Error is 0.64\n",
      "Model: AdaBoostRegressor() random state 3 has r2 score-test 0.3 and r2 score-train 0.36 Mean Absolute Percentage Error is 0.61\n",
      "Model: AdaBoostRegressor() random state 4 has r2 score-test 0.37 and r2 score-train 0.37 Mean Absolute Percentage Error is 0.61\n",
      "Model: AdaBoostRegressor() random state 5 has r2 score-test 0.34 and r2 score-train 0.34 Mean Absolute Percentage Error is 0.62\n"
     ]
    }
   ],
   "source": [
    "for i1 in lst:\n",
    "    for i2 in range(0,6):\n",
    "        x_train,x_test,y_train,y_test=train_test_split(Xpt,Y,random_state=i2,test_size=0.20)\n",
    "        i1.fit(x_train,y_train)\n",
    "        pred_test=i1.predict(x_test)\n",
    "        pred_train=i1.predict(x_train)     \n",
    "        print(\"Model:\",i1,\"random state\",i2,\"has r2 score-test\",round(r2_score(y_test,pred_test),2),\"and r2 score-train\",round(r2_score(y_train,pred_train),2),\"Mean Absolute Percentage Error is\",round(mean_absolute_percentage_error(y_test,pred_test),2))\n",
    "        "
   ]
  },
  {
   "cell_type": "code",
   "execution_count": 143,
   "id": "3ad0a661",
   "metadata": {},
   "outputs": [],
   "source": [
    "x_train,x_test,y_train,y_test=train_test_split(Xpt,Y,random_state=0,test_size=0.20)"
   ]
  },
  {
   "cell_type": "markdown",
   "id": "45416398",
   "metadata": {},
   "source": [
    "# 1. Linear Regression Model"
   ]
  },
  {
   "cell_type": "code",
   "execution_count": 144,
   "id": "b37c703b",
   "metadata": {},
   "outputs": [],
   "source": [
    "model1=lr.fit(x_train,y_train)\n",
    "pred_train=model1.predict(x_train)\n",
    "pred_test=model1.predict(x_test)"
   ]
  },
  {
   "cell_type": "code",
   "execution_count": 145,
   "id": "e8dc7c16",
   "metadata": {},
   "outputs": [
    {
     "name": "stdout",
     "output_type": "stream",
     "text": [
      "30.88\n"
     ]
    }
   ],
   "source": [
    "print(round(r2_score(y_test,pred_test)*100,2))"
   ]
  },
  {
   "cell_type": "code",
   "execution_count": 146,
   "id": "6d81f705",
   "metadata": {},
   "outputs": [
    {
     "name": "stdout",
     "output_type": "stream",
     "text": [
      "27.7\n"
     ]
    }
   ],
   "source": [
    "print(round(r2_score(y_train,pred_train)*100,2))"
   ]
  },
  {
   "cell_type": "code",
   "execution_count": 147,
   "id": "6ba0d5c9",
   "metadata": {},
   "outputs": [
    {
     "name": "stdout",
     "output_type": "stream",
     "text": [
      "0.51\n"
     ]
    }
   ],
   "source": [
    "print(round(mean_absolute_percentage_error(y_test,pred_test),2))\n",
    "        "
   ]
  },
  {
   "cell_type": "code",
   "execution_count": 148,
   "id": "27c83e4a",
   "metadata": {},
   "outputs": [
    {
     "data": {
      "text/plain": [
       "<matplotlib.collections.PathCollection at 0x1de471ccd30>"
      ]
     },
     "execution_count": 148,
     "metadata": {},
     "output_type": "execute_result"
    },
    {
     "data": {
      "image/png": "[encoded data removed]",
      "text/plain": [
       "<Figure size 432x288 with 1 Axes>"
      ]
     },
     "metadata": {
      "needs_background": "light"
     },
     "output_type": "display_data"
    }
   ],
   "source": [
    "plt.scatter(x=y_test,y=pred_test)"
   ]
  },
  {
   "cell_type": "code",
   "execution_count": 149,
   "id": "e241ea1a",
   "metadata": {},
   "outputs": [
    {
     "name": "stdout",
     "output_type": "stream",
     "text": [
      "28.11\n"
     ]
    }
   ],
   "source": [
    "from sklearn.model_selection import KFold\n",
    "from sklearn.model_selection import cross_val_score\n",
    "\n",
    "cv=KFold(n_splits=10, random_state=1, shuffle=True)\n",
    "cv1=cross_val_score(model1,Xpt,Y,cv=cv)\n",
    "score1=cv1.mean()\n",
    "print(round(score1*100,2))"
   ]
  },
  {
   "cell_type": "markdown",
   "id": "055ffc59",
   "metadata": {},
   "source": [
    "# 2. Random Forest Regressor"
   ]
  },
  {
   "cell_type": "code",
   "execution_count": 150,
   "id": "aaaee82b",
   "metadata": {},
   "outputs": [],
   "source": [
    "model2=RandomForestRegressor()\n",
    "model2.fit(x_train,y_train)\n",
    "pred_test=model2.predict(x_test)\n",
    "pred_train=model2.predict(x_train)"
   ]
  },
  {
   "cell_type": "code",
   "execution_count": 151,
   "id": "5c378775",
   "metadata": {},
   "outputs": [
    {
     "name": "stdout",
     "output_type": "stream",
     "text": [
      "72.98\n"
     ]
    }
   ],
   "source": [
    "print(round(r2_score(y_test,pred_test)*100,2))"
   ]
  },
  {
   "cell_type": "code",
   "execution_count": 152,
   "id": "a18e190b",
   "metadata": {},
   "outputs": [
    {
     "name": "stdout",
     "output_type": "stream",
     "text": [
      "69.12\n"
     ]
    }
   ],
   "source": [
    "print(round(r2_score(y_train,pred_train)*100,2))"
   ]
  },
  {
   "cell_type": "code",
   "execution_count": 153,
   "id": "b3d180da",
   "metadata": {},
   "outputs": [
    {
     "name": "stdout",
     "output_type": "stream",
     "text": [
      "0.25\n"
     ]
    }
   ],
   "source": [
    "print(round(mean_absolute_percentage_error(y_test,pred_test),2))"
   ]
  },
  {
   "cell_type": "code",
   "execution_count": 154,
   "id": "05720e2a",
   "metadata": {
    "scrolled": true
   },
   "outputs": [
    {
     "data": {
      "text/plain": [
       "<matplotlib.collections.PathCollection at 0x1de491bd2b0>"
      ]
     },
     "execution_count": 154,
     "metadata": {},
     "output_type": "execute_result"
    },
    {
     "data": {
      "image/png": "[encoded data removed]",
      "text/plain": [
       "<Figure size 432x288 with 1 Axes>"
      ]
     },
     "metadata": {
      "needs_background": "light"
     },
     "output_type": "display_data"
    }
   ],
   "source": [
    "plt.scatter(x=y_test,y=pred_test)"
   ]
  },
  {
   "cell_type": "code",
   "execution_count": 155,
   "id": "657f4a1e",
   "metadata": {},
   "outputs": [
    {
     "name": "stdout",
     "output_type": "stream",
     "text": [
      "68.01\n"
     ]
    }
   ],
   "source": [
    "cv=KFold(n_splits=10, random_state=1, shuffle=True)\n",
    "cv1=cross_val_score(model2,Xpt,Y,cv=cv)\n",
    "score1=cv1.mean()\n",
    "print(round(score1*100,2))"
   ]
  },
  {
   "cell_type": "markdown",
   "id": "5e5f15f5",
   "metadata": {},
   "source": [
    "# 3. Decision Tree Regressor"
   ]
  },
  {
   "cell_type": "code",
   "execution_count": 156,
   "id": "754db17b",
   "metadata": {},
   "outputs": [],
   "source": [
    "dt=DecisionTreeRegressor()\n",
    "model3=dt.fit(x_train,y_train)\n",
    "pred_test=model3.predict(x_test)\n",
    "pred_train=model3.predict(x_train)"
   ]
  },
  {
   "cell_type": "code",
   "execution_count": 157,
   "id": "2d7baf13",
   "metadata": {},
   "outputs": [
    {
     "name": "stdout",
     "output_type": "stream",
     "text": [
      "72.91\n"
     ]
    }
   ],
   "source": [
    "print(round(r2_score(y_test,pred_test)*100,2))"
   ]
  },
  {
   "cell_type": "code",
   "execution_count": 158,
   "id": "498533cb",
   "metadata": {},
   "outputs": [
    {
     "name": "stdout",
     "output_type": "stream",
     "text": [
      "69.29\n"
     ]
    }
   ],
   "source": [
    "print(round(r2_score(y_train,pred_train)*100,2))"
   ]
  },
  {
   "cell_type": "code",
   "execution_count": 159,
   "id": "77df7867",
   "metadata": {},
   "outputs": [
    {
     "name": "stdout",
     "output_type": "stream",
     "text": [
      "0.26\n"
     ]
    }
   ],
   "source": [
    "print(round(mean_absolute_percentage_error(y_test,pred_test),2))"
   ]
  },
  {
   "cell_type": "code",
   "execution_count": 160,
   "id": "c128882d",
   "metadata": {},
   "outputs": [
    {
     "data": {
      "text/plain": [
       "<matplotlib.collections.PathCollection at 0x1de49225370>"
      ]
     },
     "execution_count": 160,
     "metadata": {},
     "output_type": "execute_result"
    },
    {
     "data": {
      "image/png": "[encoded data removed]",
      "text/plain": [
       "<Figure size 432x288 with 1 Axes>"
      ]
     },
     "metadata": {
      "needs_background": "light"
     },
     "output_type": "display_data"
    }
   ],
   "source": [
    "plt.scatter(x=y_test,y=pred_test)"
   ]
  },
  {
   "cell_type": "code",
   "execution_count": 161,
   "id": "ea3cab3d",
   "metadata": {},
   "outputs": [
    {
     "name": "stdout",
     "output_type": "stream",
     "text": [
      "68.02\n"
     ]
    }
   ],
   "source": [
    "cv=KFold(n_splits=10, random_state=1, shuffle=True)\n",
    "cv1=cross_val_score(model3,Xpt,Y,cv=cv)\n",
    "score1=cv1.mean()\n",
    "print(round(score1*100,2))"
   ]
  },
  {
   "cell_type": "markdown",
   "id": "6006e812",
   "metadata": {},
   "source": [
    "# 4.KNN"
   ]
  },
  {
   "cell_type": "code",
   "execution_count": 162,
   "id": "7d6f8e46",
   "metadata": {},
   "outputs": [],
   "source": [
    "knn=KNeighborsRegressor(n_neighbors=4)\n",
    "model4=knn.fit(x_train,y_train)\n",
    "pred_test=model4.predict(x_test)\n",
    "pred_train=model4.predict(x_train)"
   ]
  },
  {
   "cell_type": "code",
   "execution_count": 163,
   "id": "2a8c3194",
   "metadata": {},
   "outputs": [
    {
     "name": "stdout",
     "output_type": "stream",
     "text": [
      "63.02\n"
     ]
    }
   ],
   "source": [
    "print(round(r2_score(y_test,pred_test)*100,2))"
   ]
  },
  {
   "cell_type": "code",
   "execution_count": 164,
   "id": "cae0394d",
   "metadata": {},
   "outputs": [
    {
     "name": "stdout",
     "output_type": "stream",
     "text": [
      "58.73\n"
     ]
    }
   ],
   "source": [
    "print(round(r2_score(y_train,pred_train)*100,2))"
   ]
  },
  {
   "cell_type": "code",
   "execution_count": 165,
   "id": "fc0bcf0b",
   "metadata": {},
   "outputs": [
    {
     "name": "stdout",
     "output_type": "stream",
     "text": [
      "0.25\n"
     ]
    }
   ],
   "source": [
    "print(round(mean_absolute_percentage_error(y_test,pred_test),2))"
   ]
  },
  {
   "cell_type": "code",
   "execution_count": 166,
   "id": "37de125e",
   "metadata": {},
   "outputs": [
    {
     "data": {
      "text/plain": [
       "<matplotlib.collections.PathCollection at 0x1de49282220>"
      ]
     },
     "execution_count": 166,
     "metadata": {},
     "output_type": "execute_result"
    },
    {
     "data": {
      "image/png": "[encoded data removed]",
      "text/plain": [
       "<Figure size 432x288 with 1 Axes>"
      ]
     },
     "metadata": {
      "needs_background": "light"
     },
     "output_type": "display_data"
    }
   ],
   "source": [
    "plt.scatter(x=y_test,y=pred_test)"
   ]
  },
  {
   "cell_type": "code",
   "execution_count": 167,
   "id": "c747f7da",
   "metadata": {},
   "outputs": [
    {
     "name": "stdout",
     "output_type": "stream",
     "text": [
      "58.49\n"
     ]
    }
   ],
   "source": [
    "cv=KFold(n_splits=10, random_state=1, shuffle=True)\n",
    "cv1=cross_val_score(model4,Xpt,Y,cv=cv)\n",
    "score1=cv1.mean()\n",
    "print(round(score1*100,2))"
   ]
  },
  {
   "cell_type": "markdown",
   "id": "dc5acf08",
   "metadata": {},
   "source": [
    "The Random Forest Model and Decision Tree Model are efficient models since Linear Regression and K Neighbours Models are having low r2 score for both training and test data. "
   ]
  },
  {
   "cell_type": "markdown",
   "id": "0d605fe9",
   "metadata": {},
   "source": [
    "# Hyperparameter Tuning"
   ]
  },
  {
   "cell_type": "code",
   "execution_count": 229,
   "id": "4ee2fe33",
   "metadata": {},
   "outputs": [],
   "source": [
    "from sklearn.model_selection import RandomizedSearchCV"
   ]
  },
  {
   "cell_type": "code",
   "execution_count": 240,
   "id": "c410588f",
   "metadata": {},
   "outputs": [
    {
     "data": {
      "text/plain": [
       "{'bootstrap': True,\n",
       " 'ccp_alpha': 0.0,\n",
       " 'criterion': 'squared_error',\n",
       " 'max_depth': None,\n",
       " 'max_features': 'auto',\n",
       " 'max_leaf_nodes': None,\n",
       " 'max_samples': None,\n",
       " 'min_impurity_decrease': 0.0,\n",
       " 'min_samples_leaf': 1,\n",
       " 'min_samples_split': 2,\n",
       " 'min_weight_fraction_leaf': 0.0,\n",
       " 'n_estimators': 100,\n",
       " 'n_jobs': None,\n",
       " 'oob_score': False,\n",
       " 'random_state': None,\n",
       " 'verbose': 0,\n",
       " 'warm_start': False}"
      ]
     },
     "execution_count": 240,
     "metadata": {},
     "output_type": "execute_result"
    }
   ],
   "source": [
    "rf=RandomForestRegressor()\n",
    "rf.get_params()"
   ]
  },
  {
   "cell_type": "code",
   "execution_count": 241,
   "id": "28f4370f",
   "metadata": {},
   "outputs": [],
   "source": [
    "param_dist={\"max_depth\": [10,20,30,40,50,60,70,80],\n",
    "            \"criterion\": [\"squared_error\",\"friedman_mse\",\"absolute_error\",\"poisson\"],\n",
    "            \"ccp_alpha\":[0.0,0.1,0.2],\n",
    "            'min_samples_split':[2,3,4,5,6,7]}\n",
    "           "
   ]
  },
  {
   "cell_type": "code",
   "execution_count": 258,
   "id": "6556096c",
   "metadata": {},
   "outputs": [],
   "source": [
    "samples=7  # number of random samples \n",
    "randomCV=RandomizedSearchCV(dt, param_distributions=param_dist, n_iter=samples,cv=3)"
   ]
  },
  {
   "cell_type": "code",
   "execution_count": 259,
   "id": "915881bd",
   "metadata": {},
   "outputs": [],
   "source": [
    "final=randomCV.fit(x_train,y_train)"
   ]
  },
  {
   "cell_type": "code",
   "execution_count": 260,
   "id": "049bcb51",
   "metadata": {},
   "outputs": [
    {
     "name": "stdout",
     "output_type": "stream",
     "text": [
      "{'min_samples_split': 5, 'max_depth': 60, 'criterion': 'poisson', 'ccp_alpha': 0.0}\n"
     ]
    }
   ],
   "source": [
    "print(final.best_params_)"
   ]
  },
  {
   "cell_type": "code",
   "execution_count": 261,
   "id": "b3236e30",
   "metadata": {},
   "outputs": [],
   "source": [
    "pred1=final.predict(x_test)"
   ]
  },
  {
   "cell_type": "code",
   "execution_count": 262,
   "id": "418f30ee",
   "metadata": {},
   "outputs": [],
   "source": [
    "pred2=final.predict(x_train)"
   ]
  },
  {
   "cell_type": "code",
   "execution_count": 263,
   "id": "ec0bd4d1",
   "metadata": {},
   "outputs": [
    {
     "name": "stdout",
     "output_type": "stream",
     "text": [
      "72.91\n"
     ]
    }
   ],
   "source": [
    "print(round(r2_score(y_test,pred1)*100,2))"
   ]
  },
  {
   "cell_type": "code",
   "execution_count": 264,
   "id": "42db2250",
   "metadata": {},
   "outputs": [
    {
     "name": "stdout",
     "output_type": "stream",
     "text": [
      "69.29\n"
     ]
    }
   ],
   "source": [
    "print(round(r2_score(y_train,pred2)*100,2))"
   ]
  },
  {
   "cell_type": "code",
   "execution_count": 265,
   "id": "031992a7",
   "metadata": {
    "scrolled": true
   },
   "outputs": [
    {
     "name": "stdout",
     "output_type": "stream",
     "text": [
      "0.26\n"
     ]
    }
   ],
   "source": [
    "print(round(mean_absolute_percentage_error(y_test,pred1),2))"
   ]
  },
  {
   "cell_type": "markdown",
   "id": "f2606649",
   "metadata": {},
   "source": [
    "# After hyper tuning improvement of 0.17 was found in r2 score of train data."
   ]
  },
  {
   "cell_type": "markdown",
   "id": "c20f91e3",
   "metadata": {},
   "source": [
    "# Saving the model"
   ]
  },
  {
   "cell_type": "code",
   "execution_count": 266,
   "id": "b0c96cd8",
   "metadata": {},
   "outputs": [],
   "source": [
    "import pickle\n",
    "pickle.dump(final, open('Car_Price_Prediction','wb'))"
   ]
  },
  {
   "cell_type": "code",
   "execution_count": 267,
   "id": "52e06530",
   "metadata": {},
   "outputs": [
    {
     "data": {
      "text/plain": [
       "array([26.        ,  7.06785714,  9.4125    , ...,  8.34155844,\n",
       "        3.34042857,  7.25836066])"
      ]
     },
     "execution_count": 267,
     "metadata": {},
     "output_type": "execute_result"
    }
   ],
   "source": [
    "pickled_model=pickle.load(open('Car_Price_Prediction','rb'))\n",
    "pickled_model.predict(x_test)"
   ]
  }
 ],
 "metadata": {
  "kernelspec": {
   "display_name": "Python 3 (ipykernel)",
   "language": "python",
   "name": "python3"
  },
  "language_info": {
   "codemirror_mode": {
    "name": "ipython",
    "version": 3
   },
   "file_extension": ".py",
   "mimetype": "text/x-python",
   "name": "python",
   "nbconvert_exporter": "python",
   "pygments_lexer": "ipython3",
   "version": "3.9.12"
  }
 },
 "nbformat": 4,
 "nbformat_minor": 5
}
